{
  "nbformat": 4,
  "nbformat_minor": 0,
  "metadata": {
    "colab": {
      "name": "Test",
      "provenance": [],
      "collapsed_sections": [],
      "authorship_tag": "ABX9TyOdJkgD2CoMuIYufgChySpV",
      "include_colab_link": true
    },
    "kernelspec": {
      "name": "python3",
      "display_name": "Python 3"
    },
    "accelerator": "GPU"
  },
  "cells": [
    {
      "cell_type": "markdown",
      "metadata": {
        "id": "view-in-github",
        "colab_type": "text"
      },
      "source": [
        "<a href=\"https://colab.research.google.com/github/aleksl17/IKT440ptmc/blob/colab/TM.ipynb\" target=\"_parent\"><img src=\"https://colab.research.google.com/assets/colab-badge.svg\" alt=\"Open In Colab\"/></a>"
      ]
    },
    {
      "cell_type": "code",
      "metadata": {
        "colab": {
          "base_uri": "https://localhost:8080/",
          "height": 1000
        },
        "id": "36fLEIrxbKbz",
        "outputId": "22802644-3131-4243-81ce-1d32d46b12fa"
      },
      "source": [
        "!pip3 install pycuda\n",
        "!pip3 install pyTsetlinMachineCUDA\n",
        "!pip3 install opencv-python\n",
        "\n",
        "from PyTsetlinMachineCUDA.tm import MultiClassConvolutionalTsetlinMachine2D\n",
        "#import sys\n",
        "#sys.path.append('../pyTsetlinMachine/')\n",
        "#from tm import MultiClassConvolutionalTsetlinMachine2D\n",
        "import numpy as np\n",
        "from time import time\n",
        "import copy\n",
        "import matplotlib.pyplot as plt\n",
        "import math\n",
        "import imgaug\n",
        "\n",
        "\n",
        "from keras.datasets import cifar10\n",
        "\n",
        "import cv2\n",
        "\n",
        "factor = 1\n",
        "clauses = 4000*factor\n",
        "T = 75*100*factor\n",
        "s = 10.0\n",
        "patch = 8\n",
        "img_size = 32\n",
        "\n",
        "epochs = 50\n",
        "\n",
        "labels = [b'airplane', b'automobile', b'bird', b'cat', b'deer', b'dog', b'frog', b'horse', b'ship', b'truck']\n",
        "\n",
        "tm = MultiClassConvolutionalTsetlinMachine2D(clauses, T, s, (patch, patch), number_of_state_bits=8, max_weight=255)\n",
        "#tm = MultiClassConvolutionalTsetlinMachine2D(clauses, T, s, (patch, patch), weighted_clauses=True)\n",
        "\n",
        "(X_train, Y_train), (X_test, Y_test) = cifar10.load_data()\n",
        "\n",
        "#do augmentation here\n",
        "# Global Variables\n",
        "augmentation_percentage = 30\n",
        "\n",
        "# Import and manipulate dataset\n",
        "a_p = math.floor((augmentation_percentage / 100) * len(X_train))\n",
        "x_train_aug_before = copy.deepcopy(X_train[0:a_p])\n",
        "x_train_aug_before = x_train_aug_before.astype(\"float32\")\n",
        "\n",
        "# Augmentation variables\n",
        "seq = imgaug.augmenters.Sequential([\n",
        "    imgaug.augmenters.Affine(rotate=(-25, 25)),\n",
        "    imgaug.augmenters.SaltAndPepper(p=(0, 0.1)),\n",
        "    imgaug.augmenters.Crop(percent=(0, 0.25))\n",
        "])\n",
        "\n",
        "# Image augmentation\n",
        "x_aug = seq.augment_images(x_train_aug_before)\n",
        "y_aug = Y_train[0:a_p]\n",
        "\n",
        "#do adaptive gaussian filtering here\n",
        "\n",
        "def gaussian_kernel(size, sigma=1):\n",
        "  size = int(size) // 2\n",
        "  x, y = np.mgrid[-size:size+1, -size:size+1]\n",
        "  normal = 1 / (2.0 * np.pi * sigma**2)\n",
        "  g =  np.exp(-((x**2 + y**2) / (2.0*sigma**2))) * normal\n",
        "  return g\n",
        "\n",
        "gaussian_images = []\n",
        "\n",
        "for img in x_aug:\n",
        "  new_img = cv2.filter2D(img, -1, gaussian_kernel(2,sigma=1))\n",
        "  gaussian_images.append(new_img)\n",
        "\n",
        "gaussian_images = np.array(gaussian_images)\n",
        "gaussian_images = gaussian_images.astype(int)\n",
        "\n",
        "plt.imshow(X_train[0])\n",
        "plt.show()\n",
        "\n",
        "plt.imshow(gaussian_images[0])\n",
        "plt.show()\n",
        "\n",
        "\n",
        "#append augmented images to training data\n",
        "X_train = np.concatenate((X_train, gaussian_images), axis=0)\n",
        "Y_train = np.concatenate((Y_train, y_aug),axis=0)\n",
        "\n",
        "#convert X to uint8\n",
        "X_train = X_train.astype(np.uint8)\n",
        "X_test = X_test.astype(np.uint8)\n",
        "\n",
        "#reshape dataset\n",
        "Y_train=Y_train.reshape(Y_train.shape[0])\n",
        "Y_test=Y_test.reshape(Y_test.shape[0])\n",
        "\n",
        "for i in range(X_train.shape[0]):\n",
        "        for j in range(X_train.shape[3]):\n",
        "                X_train[i,:,:,j] = cv2.adaptiveThreshold(X_train[i,:,:,j], 1, cv2.ADAPTIVE_THRESH_GAUSSIAN_C, cv2.THRESH_BINARY, 11, 2) #cv2.adaptiveThreshold(X_train[i,:,:,j], 1, cv2.ADAPTIVE_THRESH_GAUSSIAN_C, cv2.THRESH_BINARY, 5, 5)\n",
        "\n",
        "for i in range(X_test.shape[0]):\n",
        "        for j in range(X_test.shape[3]):\n",
        "                X_test[i,:,:,j] = cv2.adaptiveThreshold(X_test[i,:,:,j], 1, cv2.ADAPTIVE_THRESH_GAUSSIAN_C, cv2.THRESH_BINARY, 11, 2)#cv2.adaptiveThreshold(X_test[i,:,:,j], 1, cv2.ADAPTIVE_THRESH_GAUSSIAN_C, cv2.THRESH_BINARY, 5, 5)\n",
        "\n",
        "\n",
        "accuracy_history = []\n",
        "\n",
        "print(\"\\nAccuracy over %d epochs:\\n\" % epochs)\n",
        "for i in range(epochs):\n",
        "        start_training = time()\n",
        "        tm.fit(X_train, Y_train, epochs=1, incremental=True)\n",
        "        stop_training = time()\n",
        "\n",
        "        start_testing = time()\n",
        "        result_test = 100*(tm.predict(X_test) == Y_test).mean()\n",
        "        accuracy_history.append(result_test)\n",
        "        result_train= 100*(tm.predict(X_train) == Y_train).mean()\n",
        "        stop_testing = time()\n",
        "\n",
        "        print(\"#%d Accuracy: %.2f%%/%.2f%% Training: %.2fs Testing: %.2fs\" % (i+1, result_train, result_test, stop_training-start_training, stop_testing-start_testing))\n",
        "\n",
        "\n",
        "plt.plot(accuracy_history)\n",
        "plt.show()\n",
        "\n",
        "#testing\n",
        "\n",
        "pred = tm.predict(X_test)\n",
        "\n",
        "correct = 0\n",
        "fail = 0\n",
        "for i in range(len(X_test)):\n",
        "  if pred[i] == Y_test[i]:\n",
        "    correct += 1\n",
        "  else:\n",
        "    fail += 1\n",
        "\n",
        "print(\"Testing Accuracy after \"+ str(epochs) +\" epochs:\")\n",
        "print(str(correct/(correct+fail)))\n",
        "\n"
      ],
      "execution_count": null,
      "outputs": [
        {
          "output_type": "stream",
          "text": [
            "Requirement already satisfied: pycuda in /usr/local/lib/python3.6/dist-packages (2020.1)\n",
            "Requirement already satisfied: mako in /usr/local/lib/python3.6/dist-packages (from pycuda) (1.1.3)\n",
            "Requirement already satisfied: appdirs>=1.4.0 in /usr/local/lib/python3.6/dist-packages (from pycuda) (1.4.4)\n",
            "Requirement already satisfied: decorator>=3.2.0 in /usr/local/lib/python3.6/dist-packages (from pycuda) (4.4.2)\n",
            "Requirement already satisfied: pytools>=2011.2 in /usr/local/lib/python3.6/dist-packages (from pycuda) (2020.4.3)\n",
            "Requirement already satisfied: MarkupSafe>=0.9.2 in /usr/local/lib/python3.6/dist-packages (from mako->pycuda) (1.1.1)\n",
            "Requirement already satisfied: numpy>=1.6.0 in /usr/local/lib/python3.6/dist-packages (from pytools>=2011.2->pycuda) (1.18.5)\n",
            "Requirement already satisfied: six>=1.8.0 in /usr/local/lib/python3.6/dist-packages (from pytools>=2011.2->pycuda) (1.15.0)\n",
            "Requirement already satisfied: dataclasses>=0.7; python_version <= \"3.6\" in /usr/local/lib/python3.6/dist-packages (from pytools>=2011.2->pycuda) (0.8)\n",
            "Requirement already satisfied: pyTsetlinMachineCUDA in /usr/local/lib/python3.6/dist-packages (0.1.8)\n",
            "Requirement already satisfied: opencv-python in /usr/local/lib/python3.6/dist-packages (4.1.2.30)\n",
            "Requirement already satisfied: numpy>=1.11.3 in /usr/local/lib/python3.6/dist-packages (from opencv-python) (1.18.5)\n"
          ],
          "name": "stdout"
        },
        {
          "output_type": "display_data",
          "data": {
            "image/png": "[encoded data removed]",
            "text/plain": [
              "<Figure size 432x288 with 1 Axes>"
            ]
          },
          "metadata": {
            "tags": [],
            "needs_background": "light"
          }
        },
        {
          "output_type": "display_data",
          "data": {
            "image/png": "[encoded data removed]",
            "text/plain": [
              "<Figure size 432x288 with 1 Axes>"
            ]
          },
          "metadata": {
            "tags": [],
            "needs_background": "light"
          }
        },
        {
          "output_type": "stream",
          "text": [
            "\n",
            "Accuracy over 50 epochs:\n",
            "\n",
            "#1 Accuracy: 36.99%/37.98% Training: 132.24s Testing: 151.15s\n",
            "#2 Accuracy: 43.16%/44.44% Training: 117.28s Testing: 149.60s\n",
            "#3 Accuracy: 45.15%/45.65% Training: 117.21s Testing: 148.33s\n",
            "#4 Accuracy: 47.58%/47.36% Training: 115.22s Testing: 147.21s\n",
            "#5 Accuracy: 48.96%/48.30% Training: 114.84s Testing: 146.65s\n",
            "#6 Accuracy: 49.32%/48.07% Training: 113.83s Testing: 146.28s\n",
            "#7 Accuracy: 52.27%/50.65% Training: 113.58s Testing: 145.74s\n",
            "#8 Accuracy: 50.13%/47.96% Training: 113.12s Testing: 145.61s\n",
            "#9 Accuracy: 42.56%/43.19% Training: 112.46s Testing: 144.57s\n",
            "#10 Accuracy: 54.35%/52.38% Training: 112.22s Testing: 144.12s\n",
            "#11 Accuracy: 50.58%/47.72% Training: 111.97s Testing: 145.33s\n",
            "#12 Accuracy: 45.72%/45.40% Training: 111.84s Testing: 144.25s\n",
            "#13 Accuracy: 54.33%/51.39% Training: 111.42s Testing: 143.66s\n",
            "#14 Accuracy: 48.72%/47.16% Training: 111.22s Testing: 143.72s\n",
            "#15 Accuracy: 46.85%/45.34% Training: 110.76s Testing: 142.59s\n",
            "#16 Accuracy: 52.18%/48.78% Training: 109.96s Testing: 143.29s\n",
            "#17 Accuracy: 50.36%/47.97% Training: 110.18s Testing: 142.95s\n",
            "#18 Accuracy: 48.92%/46.70% Training: 109.83s Testing: 142.54s\n",
            "#19 Accuracy: 49.99%/46.51% Training: 109.86s Testing: 142.79s\n",
            "#20 Accuracy: 53.89%/50.42% Training: 109.68s Testing: 142.36s\n",
            "#21 Accuracy: 48.52%/46.23% Training: 109.33s Testing: 142.83s\n",
            "#22 Accuracy: 47.90%/44.79% Training: 108.91s Testing: 141.15s\n",
            "#23 Accuracy: 55.53%/51.51% Training: 109.04s Testing: 141.95s\n",
            "#24 Accuracy: 46.56%/43.91% Training: 108.55s Testing: 140.97s\n",
            "#25 Accuracy: 50.81%/47.93% Training: 108.39s Testing: 141.81s\n",
            "#26 Accuracy: 53.82%/50.21% Training: 108.50s Testing: 141.49s\n",
            "#27 Accuracy: 45.22%/42.41% Training: 107.70s Testing: 139.86s\n",
            "#28 Accuracy: 56.27%/51.98% Training: 107.69s Testing: 140.70s\n",
            "#29 Accuracy: 51.56%/48.23% Training: 108.40s Testing: 141.16s\n",
            "#30 Accuracy: 46.85%/44.01% Training: 107.57s Testing: 140.20s\n",
            "#31 Accuracy: 57.90%/52.32% Training: 107.33s Testing: 140.92s\n",
            "#32 Accuracy: 52.33%/47.83% Training: 107.35s Testing: 140.35s\n",
            "#33 Accuracy: 51.45%/47.56% Training: 107.09s Testing: 139.57s\n",
            "#34 Accuracy: 52.54%/48.34% Training: 107.08s Testing: 139.92s\n",
            "#35 Accuracy: 48.28%/43.91% Training: 107.08s Testing: 139.57s\n",
            "#36 Accuracy: 52.88%/49.01% Training: 107.33s Testing: 139.94s\n",
            "#37 Accuracy: 54.79%/49.67% Training: 107.23s Testing: 141.03s\n",
            "#38 Accuracy: 51.31%/46.23% Training: 107.34s Testing: 140.50s\n",
            "#39 Accuracy: 50.83%/46.95% Training: 107.04s Testing: 139.27s\n",
            "#40 Accuracy: 52.14%/46.58% Training: 106.82s Testing: 140.14s\n",
            "#41 Accuracy: 56.26%/50.84% Training: 107.12s Testing: 140.03s\n",
            "#42 Accuracy: 52.07%/47.91% Training: 106.61s Testing: 139.04s\n",
            "#43 Accuracy: 50.24%/45.04% Training: 105.99s Testing: 139.84s\n",
            "#44 Accuracy: 56.14%/51.00% Training: 106.30s Testing: 138.91s\n",
            "#45 Accuracy: 53.90%/48.24% Training: 106.22s Testing: 138.76s\n",
            "#46 Accuracy: 53.33%/47.50% Training: 105.93s Testing: 140.38s\n",
            "#47 Accuracy: 53.98%/49.84% Training: 106.14s Testing: 138.86s\n",
            "#48 Accuracy: 51.02%/46.44% Training: 105.66s Testing: 138.20s\n",
            "#49 Accuracy: 53.09%/48.27% Training: 105.53s Testing: 139.83s\n"
          ],
          "name": "stdout"
        }
      ]
    },
    {
      "cell_type": "markdown",
      "metadata": {
        "id": "E7XdQLuorjrc"
      },
      "source": [
        ""
      ]
    },
    {
      "cell_type": "code",
      "metadata": {
        "id": "Jxmvy0Njh__R"
      },
      "source": [
        ""
      ],
      "execution_count": null,
      "outputs": []
    },
    {
      "cell_type": "code",
      "metadata": {
        "id": "f6eUdKKYh_39"
      },
      "source": [
        ""
      ],
      "execution_count": null,
      "outputs": []
    },
    {
      "cell_type": "code",
      "metadata": {
        "id": "FsNr7euxaMJm"
      },
      "source": [
        ""
      ],
      "execution_count": null,
      "outputs": []
    }
  ]
}