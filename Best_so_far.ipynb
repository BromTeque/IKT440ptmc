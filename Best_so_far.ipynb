{
  "nbformat": 4,
  "nbformat_minor": 0,
  "metadata": {
    "colab": {
      "name": "Test",
      "provenance": [],
      "collapsed_sections": [],
      "authorship_tag": "ABX9TyPIGYydP8Gnr9QUb2zGKArJ",
      "include_colab_link": true
    },
    "kernelspec": {
      "name": "python3",
      "display_name": "Python 3"
    },
    "accelerator": "GPU"
  },
  "cells": [
    {
      "cell_type": "markdown",
      "metadata": {
        "id": "view-in-github",
        "colab_type": "text"
      },
      "source": [
        "<a href=\"https://colab.research.google.com/github/aleksl17/IKT440ptmc/blob/colab/Best_so_far.ipynb\" target=\"_parent\"><img src=\"https://colab.research.google.com/assets/colab-badge.svg\" alt=\"Open In Colab\"/></a>"
      ]
    },
    {
      "cell_type": "code",
      "metadata": {
        "colab": {
          "base_uri": "https://localhost:8080/",
          "height": 1000
        },
        "id": "36fLEIrxbKbz",
        "outputId": "65d7cb44-04c0-4365-af96-1ac08293d495"
      },
      "source": [
        "!pip3 install pycuda\n",
        "!pip3 install pyTsetlinMachineCUDA\n",
        "!pip3 install opencv-python\n",
        "\n",
        "from PyTsetlinMachineCUDA.tm import MultiClassConvolutionalTsetlinMachine2D\n",
        "#import sys\n",
        "#sys.path.append('../pyTsetlinMachine/')\n",
        "#from tm import MultiClassConvolutionalTsetlinMachine2D\n",
        "import numpy as np\n",
        "from time import time\n",
        "import copy\n",
        "import matplotlib.pyplot as plt\n",
        "import math\n",
        "import imgaug\n",
        "\n",
        "\n",
        "from keras.datasets import cifar10\n",
        "\n",
        "import cv2\n",
        "\n",
        "factor = 1\n",
        "clauses = 8000*factor\n",
        "T = 150*100*factor #threshold\n",
        "s = 20.0 #learning sensitivity\n",
        "patch = 6\n",
        "img_size = 32\n",
        "\n",
        "epochs = 50\n",
        "\n",
        "labels = [b'airplane', b'automobile', b'bird', b'cat', b'deer', b'dog', b'frog', b'horse', b'ship', b'truck']\n",
        "\n",
        "tm = MultiClassConvolutionalTsetlinMachine2D(clauses, T, s, (patch, patch), number_of_state_bits=8, max_weight=255)\n",
        "#tm = MultiClassConvolutionalTsetlinMachine2D(clauses, T, s, (patch, patch), weighted_clauses=True)\n",
        "\n",
        "(X_train, Y_train), (X_test, Y_test) = cifar10.load_data()\n",
        "\n",
        "#do augmentation here\n",
        "# Global Variables\n",
        "augmentation_percentage = 30\n",
        "\n",
        "# Import and manipulate dataset\n",
        "a_p = math.floor((augmentation_percentage / 100) * len(X_train))\n",
        "x_train_aug_before = copy.deepcopy(X_train[0:a_p])\n",
        "x_train_aug_before = x_train_aug_before.astype(\"float32\")\n",
        "\n",
        "# Augmentation variables\n",
        "seq = imgaug.augmenters.Sequential([\n",
        "    imgaug.augmenters.Affine(rotate=(-25, 25)),\n",
        "    imgaug.augmenters.SaltAndPepper(p=(0, 0.1)),\n",
        "    imgaug.augmenters.Crop(percent=(0, 0.25))\n",
        "])\n",
        "\n",
        "# Image augmentation\n",
        "x_aug = seq.augment_images(x_train_aug_before)\n",
        "y_aug = Y_train[0:a_p]\n",
        "\n",
        "#do adaptive gaussian filtering here\n",
        "\n",
        "def gaussian_kernel(size, sigma=1):\n",
        "  size = int(size) // 2\n",
        "  x, y = np.mgrid[-size:size+1, -size:size+1]\n",
        "  normal = 1 / (2.0 * np.pi * sigma**2)\n",
        "  g =  np.exp(-((x**2 + y**2) / (2.0*sigma**2))) * normal\n",
        "  return g\n",
        "\n",
        "gaussian_images = []\n",
        "\n",
        "for img in x_aug:\n",
        "  new_img = cv2.filter2D(img, -1, gaussian_kernel(2,sigma=1))\n",
        "  gaussian_images.append(new_img)\n",
        "\n",
        "gaussian_images = np.array(gaussian_images)\n",
        "gaussian_images = gaussian_images.astype(int)\n",
        "\n",
        "plt.imshow(X_train[0])\n",
        "plt.show()\n",
        "\n",
        "plt.imshow(gaussian_images[0])\n",
        "plt.show()\n",
        "\n",
        "plt.imshow(X_train[1])\n",
        "plt.show()\n",
        "\n",
        "plt.imshow(gaussian_images[1])\n",
        "plt.show()\n",
        "\n",
        "#append augmented images to training data\n",
        "X_train = np.concatenate((X_train, gaussian_images), axis=0)\n",
        "Y_train = np.concatenate((Y_train, y_aug),axis=0)\n",
        "\n",
        "#convert X to uint8\n",
        "X_train = X_train.astype(np.uint8)\n",
        "X_test = X_test.astype(np.uint8)\n",
        "\n",
        "#reshape dataset\n",
        "Y_train=Y_train.reshape(Y_train.shape[0])\n",
        "Y_test=Y_test.reshape(Y_test.shape[0])\n",
        "\n",
        "#binarize\n",
        "for i in range(X_train.shape[0]):\n",
        "        for j in range(X_train.shape[3]):\n",
        "                X_train[i,:,:,j] = cv2.adaptiveThreshold(X_train[i,:,:,j], 1, cv2.ADAPTIVE_THRESH_GAUSSIAN_C, cv2.THRESH_BINARY, 11, 2) #cv2.adaptiveThreshold(X_train[i,:,:,j], 1, cv2.ADAPTIVE_THRESH_GAUSSIAN_C, cv2.THRESH_BINARY, 5, 5)\n",
        "\n",
        "for i in range(X_test.shape[0]):\n",
        "        for j in range(X_test.shape[3]):\n",
        "                X_test[i,:,:,j] = cv2.adaptiveThreshold(X_test[i,:,:,j], 1, cv2.ADAPTIVE_THRESH_GAUSSIAN_C, cv2.THRESH_BINARY, 11, 2)#cv2.adaptiveThreshold(X_test[i,:,:,j], 1, cv2.ADAPTIVE_THRESH_GAUSSIAN_C, cv2.THRESH_BINARY, 5, 5)\n",
        "\n",
        "\n",
        "accuracy_history = []\n",
        "\n",
        "print(\"\\nAccuracy over %d epochs:\\n\" % epochs)\n",
        "for i in range(epochs):\n",
        "        start_training = time()\n",
        "        tm.fit(X_train, Y_train, epochs=1, incremental=True)\n",
        "        stop_training = time()\n",
        "\n",
        "        start_testing = time()\n",
        "        result_test = 100*(tm.predict(X_test) == Y_test).mean()\n",
        "        accuracy_history.append(result_test)\n",
        "        result_train= 100*(tm.predict(X_train) == Y_train).mean()\n",
        "        stop_testing = time()\n",
        "\n",
        "        print(\"#%d Accuracy: %.2f%%/%.2f%% Training: %.2fs Testing: %.2fs\" % (i+1, result_train, result_test, stop_training-start_training, stop_testing-start_testing))\n",
        "\n",
        "\n",
        "plt.plot(accuracy_history)\n",
        "plt.show()\n",
        "\n",
        "#testing\n",
        "\n",
        "pred = tm.predict(X_test)\n",
        "\n",
        "correct = 0\n",
        "fail = 0\n",
        "for i in range(len(X_test)):\n",
        "  if pred[i] == Y_test[i]:\n",
        "    correct += 1\n",
        "  else:\n",
        "    fail += 1\n",
        "\n",
        "print(\"Testing Accuracy after \"+ str(epochs) +\" epochs:\")\n",
        "print(str(correct/(correct+fail)))\n",
        "\n"
      ],
      "execution_count": null,
      "outputs": [
        {
          "output_type": "stream",
          "text": [
            "Collecting pycuda\n",
            "  Using cached https://files.pythonhosted.org/packages/46/61/47d3235a4c13eec5a5f03594ddb268f4858734e02980afbcd806e6242fa5/pycuda-2020.1.tar.gz\n",
            "Collecting pytools>=2011.2\n",
            "\u001b[?25l  Downloading https://files.pythonhosted.org/packages/b7/30/c9362a282ef89106768cba9d884f4b2e4f5dc6881d0c19b478d2a710b82b/pytools-2020.4.3.tar.gz (62kB)\n",
            "\u001b[K     |████████████████████████████████| 71kB 4.0MB/s \n",
            "\u001b[?25hRequirement already satisfied: decorator>=3.2.0 in /usr/local/lib/python3.6/dist-packages (from pycuda) (4.4.2)\n",
            "Collecting appdirs>=1.4.0\n",
            "  Downloading https://files.pythonhosted.org/packages/3b/00/2344469e2084fb287c2e0b57b72910309874c3245463acd6cf5e3db69324/appdirs-1.4.4-py2.py3-none-any.whl\n",
            "Collecting mako\n",
            "\u001b[?25l  Downloading https://files.pythonhosted.org/packages/a6/37/0e706200d22172eb8fa17d68a7ae22dec7631a0a92266634fb518a88a5b2/Mako-1.1.3-py2.py3-none-any.whl (75kB)\n",
            "\u001b[K     |████████████████████████████████| 81kB 4.6MB/s \n",
            "\u001b[?25hRequirement already satisfied: six>=1.8.0 in /usr/local/lib/python3.6/dist-packages (from pytools>=2011.2->pycuda) (1.15.0)\n",
            "Requirement already satisfied: numpy>=1.6.0 in /usr/local/lib/python3.6/dist-packages (from pytools>=2011.2->pycuda) (1.18.5)\n",
            "Requirement already satisfied: dataclasses>=0.7 in /usr/local/lib/python3.6/dist-packages (from pytools>=2011.2->pycuda) (0.8)\n",
            "Requirement already satisfied: MarkupSafe>=0.9.2 in /usr/local/lib/python3.6/dist-packages (from mako->pycuda) (1.1.1)\n",
            "Building wheels for collected packages: pycuda, pytools\n",
            "  Building wheel for pycuda (setup.py) ... \u001b[?25l\u001b[?25hdone\n",
            "  Created wheel for pycuda: filename=pycuda-2020.1-cp36-cp36m-linux_x86_64.whl size=621161 sha256=40f5f76e46a6b4d265f283b0c8216742ebc23ee64e478b4c3eba2e14c868ba4c\n",
            "  Stored in directory: /root/.cache/pip/wheels/8f/78/d1/5bb826f81d9d490297a348d818ff3ee6dd6f2075b06dde6ea0\n",
            "  Building wheel for pytools (setup.py) ... \u001b[?25l\u001b[?25hdone\n",
            "  Created wheel for pytools: filename=pytools-2020.4.3-py2.py3-none-any.whl size=61374 sha256=7177e19b71e5108e9b4bbdc55fbe637a2ed06a58b03989f34d0495d9b4fca764\n",
            "  Stored in directory: /root/.cache/pip/wheels/af/c7/81/a22edb90b0b09a880468b2253bb1df8e9f503337ee15432c64\n",
            "Successfully built pycuda pytools\n",
            "Installing collected packages: appdirs, pytools, mako, pycuda\n",
            "Successfully installed appdirs-1.4.4 mako-1.1.3 pycuda-2020.1 pytools-2020.4.3\n",
            "Requirement already satisfied: pyTsetlinMachineCUDA in /usr/local/lib/python3.6/dist-packages (0.1.8)\n",
            "Requirement already satisfied: opencv-python in /usr/local/lib/python3.6/dist-packages (4.1.2.30)\n",
            "Requirement already satisfied: numpy>=1.11.3 in /usr/local/lib/python3.6/dist-packages (from opencv-python) (1.18.5)\n",
            "Downloading data from https://www.cs.toronto.edu/~kriz/cifar-10-python.tar.gz\n",
            "170500096/170498071 [==============================] - 3s 0us/step\n"
          ],
          "name": "stdout"
        },
        {
          "output_type": "display_data",
          "data": {
            "image/png": "[encoded data removed]",
            "text/plain": [
              "<Figure size 432x288 with 1 Axes>"
            ]
          },
          "metadata": {
            "tags": [],
            "needs_background": "light"
          }
        },
        {
          "output_type": "display_data",
          "data": {
            "image/png": "[encoded data removed]",
            "text/plain": [
              "<Figure size 432x288 with 1 Axes>"
            ]
          },
          "metadata": {
            "tags": [],
            "needs_background": "light"
          }
        },
        {
          "output_type": "display_data",
          "data": {
            "image/png": "[encoded data removed]",
            "text/plain": [
              "<Figure size 432x288 with 1 Axes>"
            ]
          },
          "metadata": {
            "tags": [],
            "needs_background": "light"
          }
        },
        {
          "output_type": "display_data",
          "data": {
            "image/png": "[encoded data removed]",
            "text/plain": [
              "<Figure size 432x288 with 1 Axes>"
            ]
          },
          "metadata": {
            "tags": [],
            "needs_background": "light"
          }
        },
        {
          "output_type": "stream",
          "text": [
            "\n",
            "Accuracy over 50 epochs:\n",
            "\n",
            "#1 Accuracy: 38.00%/39.04% Training: 460.83s Testing: 548.48s\n",
            "#2 Accuracy: 41.98%/42.69% Training: 452.37s Testing: 554.05s\n",
            "#3 Accuracy: 45.89%/46.43% Training: 455.24s Testing: 558.22s\n",
            "#4 Accuracy: 48.24%/47.45% Training: 453.18s Testing: 552.17s\n",
            "#5 Accuracy: 50.09%/48.73% Training: 449.24s Testing: 554.85s\n",
            "#6 Accuracy: 51.98%/50.04% Training: 449.96s Testing: 546.98s\n",
            "#7 Accuracy: 53.58%/51.02% Training: 448.67s Testing: 554.70s\n",
            "#8 Accuracy: 55.29%/52.03% Training: 449.87s Testing: 538.75s\n",
            "#9 Accuracy: 56.45%/52.75% Training: 446.23s Testing: 548.57s\n",
            "#10 Accuracy: 57.56%/52.68% Training: 447.65s Testing: 546.90s\n",
            "#11 Accuracy: 58.94%/53.61% Training: 447.74s Testing: 550.64s\n",
            "#12 Accuracy: 60.21%/54.30% Training: 445.99s Testing: 542.77s\n",
            "#13 Accuracy: 61.31%/54.91% Training: 444.72s Testing: 544.81s\n",
            "#14 Accuracy: 62.81%/55.27% Training: 445.51s Testing: 538.48s\n",
            "#15 Accuracy: 63.20%/55.29% Training: 442.80s Testing: 543.18s\n",
            "#16 Accuracy: 64.61%/56.06% Training: 441.54s Testing: 533.94s\n",
            "#17 Accuracy: 65.32%/56.24% Training: 443.15s Testing: 540.69s\n",
            "#18 Accuracy: 66.62%/56.50% Training: 440.87s Testing: 538.96s\n",
            "#19 Accuracy: 67.58%/56.81% Training: 439.61s Testing: 539.59s\n",
            "#20 Accuracy: 68.29%/57.00% Training: 440.26s Testing: 538.88s\n",
            "#21 Accuracy: 68.47%/56.97% Training: 438.60s Testing: 539.70s\n",
            "#22 Accuracy: 69.94%/57.50% Training: 438.94s Testing: 538.28s\n",
            "#23 Accuracy: 70.86%/57.96% Training: 439.42s Testing: 537.83s\n",
            "#24 Accuracy: 71.58%/57.53% Training: 440.24s Testing: 537.94s\n",
            "#25 Accuracy: 72.71%/58.22% Training: 441.00s Testing: 542.60s\n",
            "#26 Accuracy: 73.23%/58.40% Training: 442.06s Testing: 543.97s\n",
            "#27 Accuracy: 73.70%/58.38% Training: 440.75s Testing: 538.69s\n",
            "#28 Accuracy: 74.94%/58.68% Training: 440.85s Testing: 538.80s\n",
            "#29 Accuracy: 74.84%/58.69% Training: 443.15s Testing: 542.28s\n",
            "#30 Accuracy: 76.27%/58.83% Training: 442.23s Testing: 540.88s\n",
            "#31 Accuracy: 76.45%/58.87% Training: 440.62s Testing: 540.28s\n",
            "#32 Accuracy: 76.85%/59.16% Training: 439.16s Testing: 534.57s\n",
            "#33 Accuracy: 78.30%/59.79% Training: 438.11s Testing: 540.55s\n",
            "#34 Accuracy: 77.65%/59.15% Training: 439.08s Testing: 538.91s\n",
            "#35 Accuracy: 78.97%/59.70% Training: 438.52s Testing: 537.84s\n",
            "#36 Accuracy: 79.50%/59.67% Training: 437.37s Testing: 538.34s\n"
          ],
          "name": "stdout"
        }
      ]
    },
    {
      "cell_type": "markdown",
      "metadata": {
        "id": "E7XdQLuorjrc"
      },
      "source": [
        ""
      ]
    },
    {
      "cell_type": "code",
      "metadata": {
        "id": "Jxmvy0Njh__R"
      },
      "source": [
        ""
      ],
      "execution_count": null,
      "outputs": []
    },
    {
      "cell_type": "code",
      "metadata": {
        "id": "f6eUdKKYh_39"
      },
      "source": [
        ""
      ],
      "execution_count": null,
      "outputs": []
    },
    {
      "cell_type": "code",
      "metadata": {
        "id": "FsNr7euxaMJm"
      },
      "source": [
        ""
      ],
      "execution_count": null,
      "outputs": []
    }
  ]
}